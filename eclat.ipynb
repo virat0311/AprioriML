{
 "cells": [
  {
   "cell_type": "code",
   "execution_count": 6,
   "metadata": {
    "collapsed": true
   },
   "outputs": [],
   "source": [
    "#Eclat is also association algo that use to recommend the simular  products"
   ]
  },
  {
   "cell_type": "code",
   "execution_count": 7,
   "outputs": [],
   "source": [
    "\n",
    "import pandas as pd\n",
    "import numpy as np\n",
    "import matplotlib.pyplot as plt"
   ],
   "metadata": {
    "collapsed": false
   }
  },
  {
   "cell_type": "code",
   "execution_count": 8,
   "outputs": [],
   "source": [
    "#read data and store in list\n",
    "dataset = pd.read_csv('Market_Basket_Optimisation.csv', header=None)\n",
    "transactions = []\n",
    "for i in range(0, 7501):\n",
    "    transactions.append([str(dataset.values[i, j]) for j in range(0, 20)])\n",
    "#print(transactions)\n"
   ],
   "metadata": {
    "collapsed": false
   }
  },
  {
   "cell_type": "code",
   "execution_count": 9,
   "outputs": [],
   "source": [
    "from apyori import apriori\n",
    "\n",
    "rules = apriori(transactions=transactions, min_support=0.003, min_confidence=0.2, min_lift=3, min_lenght=2,\n",
    "                max_length=2)\n",
    "results = list(rules)"
   ],
   "metadata": {
    "collapsed": false
   }
  },
  {
   "cell_type": "code",
   "execution_count": 10,
   "outputs": [
    {
     "data": {
      "text/plain": "              product 1    product 2   Support\n0           light cream      chicken  0.004533\n1  mushroom cream sauce     escalope  0.005733\n2                 pasta     escalope  0.005866\n3         fromage blanc        honey  0.003333\n4         herb & pepper  ground beef  0.015998\n5          tomato sauce  ground beef  0.005333\n6           light cream    olive oil  0.003200\n7     whole wheat pasta    olive oil  0.007999\n8                 pasta       shrimp  0.005066",
      "text/html": "<div>\n<style scoped>\n    .dataframe tbody tr th:only-of-type {\n        vertical-align: middle;\n    }\n\n    .dataframe tbody tr th {\n        vertical-align: top;\n    }\n\n    .dataframe thead th {\n        text-align: right;\n    }\n</style>\n<table border=\"1\" class=\"dataframe\">\n  <thead>\n    <tr style=\"text-align: right;\">\n      <th></th>\n      <th>product 1</th>\n      <th>product 2</th>\n      <th>Support</th>\n    </tr>\n  </thead>\n  <tbody>\n    <tr>\n      <th>0</th>\n      <td>light cream</td>\n      <td>chicken</td>\n      <td>0.004533</td>\n    </tr>\n    <tr>\n      <th>1</th>\n      <td>mushroom cream sauce</td>\n      <td>escalope</td>\n      <td>0.005733</td>\n    </tr>\n    <tr>\n      <th>2</th>\n      <td>pasta</td>\n      <td>escalope</td>\n      <td>0.005866</td>\n    </tr>\n    <tr>\n      <th>3</th>\n      <td>fromage blanc</td>\n      <td>honey</td>\n      <td>0.003333</td>\n    </tr>\n    <tr>\n      <th>4</th>\n      <td>herb &amp; pepper</td>\n      <td>ground beef</td>\n      <td>0.015998</td>\n    </tr>\n    <tr>\n      <th>5</th>\n      <td>tomato sauce</td>\n      <td>ground beef</td>\n      <td>0.005333</td>\n    </tr>\n    <tr>\n      <th>6</th>\n      <td>light cream</td>\n      <td>olive oil</td>\n      <td>0.003200</td>\n    </tr>\n    <tr>\n      <th>7</th>\n      <td>whole wheat pasta</td>\n      <td>olive oil</td>\n      <td>0.007999</td>\n    </tr>\n    <tr>\n      <th>8</th>\n      <td>pasta</td>\n      <td>shrimp</td>\n      <td>0.005066</td>\n    </tr>\n  </tbody>\n</table>\n</div>"
     },
     "execution_count": 10,
     "metadata": {},
     "output_type": "execute_result"
    }
   ],
   "source": [
    "def inspect(results):\n",
    "    lhs         = [tuple(result[2][0][0])[0] for result in results]\n",
    "    rhs         = [tuple(result[2][0][1])[0] for result in results]\n",
    "    supports    = [result[1] for result in results]\n",
    "    return list(zip(lhs, rhs, supports))\n",
    "resultsinDataFrame = pd.DataFrame(inspect(results), columns = ['product 1', 'product 2', 'Support'])\n",
    "resultsinDataFrame"
   ],
   "metadata": {
    "collapsed": false
   }
  }
 ],
 "metadata": {
  "kernelspec": {
   "display_name": "Python 3",
   "language": "python",
   "name": "python3"
  },
  "language_info": {
   "codemirror_mode": {
    "name": "ipython",
    "version": 2
   },
   "file_extension": ".py",
   "mimetype": "text/x-python",
   "name": "python",
   "nbconvert_exporter": "python",
   "pygments_lexer": "ipython2",
   "version": "2.7.6"
  }
 },
 "nbformat": 4,
 "nbformat_minor": 0
}
